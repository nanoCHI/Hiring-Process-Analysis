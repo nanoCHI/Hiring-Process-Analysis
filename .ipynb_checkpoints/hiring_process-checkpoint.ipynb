{
 "cells": [
  {
   "attachments": {},
   "cell_type": "markdown",
   "metadata": {},
   "source": [
    "# Hiring Process Analytics"
   ]
  },
  {
   "attachments": {},
   "cell_type": "markdown",
   "metadata": {},
   "source": [
    "1. Impoting all the libraries"
   ]
  },
  {
   "cell_type": "code",
   "execution_count": 4,
   "metadata": {},
   "outputs": [],
   "source": [
    "import pandas as pd\n",
    "import matplotlib.pyplot as plt\n",
    "import numpy as np\n",
    "import seaborn as sns"
   ]
  },
  {
   "attachments": {},
   "cell_type": "markdown",
   "metadata": {},
   "source": [
    "2. Loading the CSV file"
   ]
  },
  {
   "cell_type": "code",
   "execution_count": 8,
   "metadata": {},
   "outputs": [
    {
     "data": {
      "text/html": [
       "<div>\n",
       "<style scoped>\n",
       "    .dataframe tbody tr th:only-of-type {\n",
       "        vertical-align: middle;\n",
       "    }\n",
       "\n",
       "    .dataframe tbody tr th {\n",
       "        vertical-align: top;\n",
       "    }\n",
       "\n",
       "    .dataframe thead th {\n",
       "        text-align: right;\n",
       "    }\n",
       "</style>\n",
       "<table border=\"1\" class=\"dataframe\">\n",
       "  <thead>\n",
       "    <tr style=\"text-align: right;\">\n",
       "      <th></th>\n",
       "      <th>application_id</th>\n",
       "      <th>Interview Taken on</th>\n",
       "      <th>Status</th>\n",
       "      <th>event_name</th>\n",
       "      <th>Department</th>\n",
       "      <th>Post Name</th>\n",
       "      <th>Offered Salary</th>\n",
       "    </tr>\n",
       "  </thead>\n",
       "  <tbody>\n",
       "    <tr>\n",
       "      <th>0</th>\n",
       "      <td>383422</td>\n",
       "      <td>5/1/14 11:40</td>\n",
       "      <td>Hired</td>\n",
       "      <td>Male</td>\n",
       "      <td>Service Department</td>\n",
       "      <td>c8</td>\n",
       "      <td>56553.0</td>\n",
       "    </tr>\n",
       "    <tr>\n",
       "      <th>1</th>\n",
       "      <td>907518</td>\n",
       "      <td>5/6/14 8:08</td>\n",
       "      <td>Hired</td>\n",
       "      <td>Female</td>\n",
       "      <td>Service Department</td>\n",
       "      <td>c5</td>\n",
       "      <td>22075.0</td>\n",
       "    </tr>\n",
       "    <tr>\n",
       "      <th>2</th>\n",
       "      <td>176719</td>\n",
       "      <td>5/6/14 8:08</td>\n",
       "      <td>Rejected</td>\n",
       "      <td>Male</td>\n",
       "      <td>Service Department</td>\n",
       "      <td>c5</td>\n",
       "      <td>70069.0</td>\n",
       "    </tr>\n",
       "    <tr>\n",
       "      <th>3</th>\n",
       "      <td>429799</td>\n",
       "      <td>5/2/14 16:28</td>\n",
       "      <td>Rejected</td>\n",
       "      <td>Female</td>\n",
       "      <td>Operations Department</td>\n",
       "      <td>i4</td>\n",
       "      <td>3207.0</td>\n",
       "    </tr>\n",
       "    <tr>\n",
       "      <th>4</th>\n",
       "      <td>253651</td>\n",
       "      <td>5/2/14 16:32</td>\n",
       "      <td>Hired</td>\n",
       "      <td>Male</td>\n",
       "      <td>Operations Department</td>\n",
       "      <td>i4</td>\n",
       "      <td>29668.0</td>\n",
       "    </tr>\n",
       "    <tr>\n",
       "      <th>...</th>\n",
       "      <td>...</td>\n",
       "      <td>...</td>\n",
       "      <td>...</td>\n",
       "      <td>...</td>\n",
       "      <td>...</td>\n",
       "      <td>...</td>\n",
       "      <td>...</td>\n",
       "    </tr>\n",
       "    <tr>\n",
       "      <th>7163</th>\n",
       "      <td>493131</td>\n",
       "      <td>8/28/14 17:32</td>\n",
       "      <td>Hired</td>\n",
       "      <td>Male</td>\n",
       "      <td>Service Department</td>\n",
       "      <td>c9</td>\n",
       "      <td>49282.0</td>\n",
       "    </tr>\n",
       "    <tr>\n",
       "      <th>7164</th>\n",
       "      <td>214261</td>\n",
       "      <td>8/31/14 1:36</td>\n",
       "      <td>Hired</td>\n",
       "      <td>Female</td>\n",
       "      <td>Service Department</td>\n",
       "      <td>c5</td>\n",
       "      <td>57742.0</td>\n",
       "    </tr>\n",
       "    <tr>\n",
       "      <th>7165</th>\n",
       "      <td>932441</td>\n",
       "      <td>8/31/14 1:37</td>\n",
       "      <td>Hired</td>\n",
       "      <td>Male</td>\n",
       "      <td>Service Department</td>\n",
       "      <td>c5</td>\n",
       "      <td>69932.0</td>\n",
       "    </tr>\n",
       "    <tr>\n",
       "      <th>7166</th>\n",
       "      <td>39010</td>\n",
       "      <td>8/31/14 1:38</td>\n",
       "      <td>Rejected</td>\n",
       "      <td>Male</td>\n",
       "      <td>Service Department</td>\n",
       "      <td>c5</td>\n",
       "      <td>14489.0</td>\n",
       "    </tr>\n",
       "    <tr>\n",
       "      <th>7167</th>\n",
       "      <td>686055</td>\n",
       "      <td>8/26/14 12:14</td>\n",
       "      <td>Hired</td>\n",
       "      <td>Male</td>\n",
       "      <td>Operations Department</td>\n",
       "      <td>c5</td>\n",
       "      <td>54201.0</td>\n",
       "    </tr>\n",
       "  </tbody>\n",
       "</table>\n",
       "<p>7168 rows × 7 columns</p>\n",
       "</div>"
      ],
      "text/plain": [
       "      application_id Interview Taken on    Status event_name  \\\n",
       "0             383422       5/1/14 11:40     Hired       Male   \n",
       "1             907518        5/6/14 8:08     Hired     Female   \n",
       "2             176719        5/6/14 8:08  Rejected       Male   \n",
       "3             429799       5/2/14 16:28  Rejected     Female   \n",
       "4             253651       5/2/14 16:32     Hired       Male   \n",
       "...              ...                ...       ...        ...   \n",
       "7163          493131      8/28/14 17:32     Hired       Male   \n",
       "7164          214261       8/31/14 1:36     Hired     Female   \n",
       "7165          932441       8/31/14 1:37     Hired       Male   \n",
       "7166           39010       8/31/14 1:38  Rejected       Male   \n",
       "7167          686055      8/26/14 12:14     Hired       Male   \n",
       "\n",
       "                 Department Post Name  Offered Salary  \n",
       "0        Service Department        c8         56553.0  \n",
       "1        Service Department        c5         22075.0  \n",
       "2        Service Department        c5         70069.0  \n",
       "3     Operations Department        i4          3207.0  \n",
       "4     Operations Department        i4         29668.0  \n",
       "...                     ...       ...             ...  \n",
       "7163     Service Department        c9         49282.0  \n",
       "7164     Service Department        c5         57742.0  \n",
       "7165     Service Department        c5         69932.0  \n",
       "7166     Service Department        c5         14489.0  \n",
       "7167  Operations Department        c5         54201.0  \n",
       "\n",
       "[7168 rows x 7 columns]"
      ]
     },
     "execution_count": 8,
     "metadata": {},
     "output_type": "execute_result"
    }
   ],
   "source": [
    "df= pd.read_csv(\"Statistics - Sheet1.csv\")\n",
    "df"
   ]
  },
  {
   "attachments": {},
   "cell_type": "markdown",
   "metadata": {},
   "source": [
    "# Preprocessing\n",
    "1. Cleaning the data\n",
    "    * Checking for duplicate values\n",
    "    * Finding irrelevant columns\n",
    "    * Finding/ determining null values"
   ]
  },
  {
   "attachments": {},
   "cell_type": "markdown",
   "metadata": {},
   "source": [
    "* Checking for duplicate values"
   ]
  },
  {
   "cell_type": "code",
   "execution_count": 9,
   "metadata": {},
   "outputs": [
    {
     "data": {
      "text/plain": [
       "0"
      ]
     },
     "execution_count": 9,
     "metadata": {},
     "output_type": "execute_result"
    }
   ],
   "source": [
    "df.duplicated().sum()"
   ]
  },
  {
   "attachments": {},
   "cell_type": "markdown",
   "metadata": {},
   "source": [
    ">> There are no duplicate values"
   ]
  },
  {
   "attachments": {},
   "cell_type": "markdown",
   "metadata": {},
   "source": [
    "* Finding irrelevant columns"
   ]
  },
  {
   "cell_type": "code",
   "execution_count": 10,
   "metadata": {},
   "outputs": [
    {
     "data": {
      "text/plain": [
       "Index(['application_id', 'Interview Taken on', 'Status', 'event_name',\n",
       "       'Department', 'Post Name', 'Offered Salary'],\n",
       "      dtype='object')"
      ]
     },
     "execution_count": 10,
     "metadata": {},
     "output_type": "execute_result"
    }
   ],
   "source": [
    "df.keys()"
   ]
  },
  {
   "attachments": {},
   "cell_type": "markdown",
   "metadata": {},
   "source": [
    ">> There are no irrelevant columns"
   ]
  },
  {
   "attachments": {},
   "cell_type": "markdown",
   "metadata": {},
   "source": [
    "* Checking for NULL values"
   ]
  },
  {
   "cell_type": "code",
   "execution_count": 11,
   "metadata": {},
   "outputs": [
    {
     "data": {
      "text/plain": [
       "application_id        0\n",
       "Interview Taken on    0\n",
       "Status                0\n",
       "event_name            0\n",
       "Department            0\n",
       "Post Name             0\n",
       "Offered Salary        1\n",
       "dtype: int64"
      ]
     },
     "execution_count": 11,
     "metadata": {},
     "output_type": "execute_result"
    }
   ],
   "source": [
    "df.isnull().sum()"
   ]
  },
  {
   "attachments": {},
   "cell_type": "markdown",
   "metadata": {},
   "source": [
    "> Only one null cell found\n",
    ">> filling the cell with the mean"
   ]
  },
  {
   "cell_type": "code",
   "execution_count": 13,
   "metadata": {},
   "outputs": [
    {
     "data": {
      "text/plain": [
       "count      7167.000000\n",
       "mean      49983.029022\n",
       "std       28854.176890\n",
       "min         100.000000\n",
       "25%       25460.500000\n",
       "50%       49625.000000\n",
       "75%       74438.000000\n",
       "max      400000.000000\n",
       "Name: Offered Salary, dtype: float64"
      ]
     },
     "execution_count": 13,
     "metadata": {},
     "output_type": "execute_result"
    }
   ],
   "source": [
    "df['Offered Salary'].describe()"
   ]
  },
  {
   "cell_type": "code",
   "execution_count": 14,
   "metadata": {},
   "outputs": [],
   "source": [
    "df['Offered Salary'].fillna(49983, inplace=True)"
   ]
  }
 ],
 "metadata": {
  "kernelspec": {
   "display_name": "Python 3",
   "language": "python",
   "name": "python3"
  },
  "language_info": {
   "codemirror_mode": {
    "name": "ipython",
    "version": 3
   },
   "file_extension": ".py",
   "mimetype": "text/x-python",
   "name": "python",
   "nbconvert_exporter": "python",
   "pygments_lexer": "ipython3",
   "version": "3.10.11"
  },
  "orig_nbformat": 4
 },
 "nbformat": 4,
 "nbformat_minor": 2
}
